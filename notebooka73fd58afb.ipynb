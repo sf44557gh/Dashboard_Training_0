{
 "cells": [
  {
   "cell_type": "code",
   "execution_count": null,
   "id": "cb0d86bc",
   "metadata": {
    "papermill": {
     "duration": 0.008711,
     "end_time": "2025-07-20T12:13:09.521111",
     "exception": false,
     "start_time": "2025-07-20T12:13:09.512400",
     "status": "completed"
    },
    "tags": []
   },
   "outputs": [],
   "source": []
  },
  {
   "cell_type": "code",
   "execution_count": null,
   "id": "f06f5c40",
   "metadata": {
    "papermill": {
     "duration": 0.006633,
     "end_time": "2025-07-20T12:13:09.535057",
     "exception": false,
     "start_time": "2025-07-20T12:13:09.528424",
     "status": "completed"
    },
    "tags": []
   },
   "outputs": [],
   "source": []
  },
  {
   "cell_type": "code",
   "execution_count": null,
   "id": "8d696742",
   "metadata": {
    "papermill": {
     "duration": 0.00682,
     "end_time": "2025-07-20T12:13:09.548726",
     "exception": false,
     "start_time": "2025-07-20T12:13:09.541906",
     "status": "completed"
    },
    "tags": []
   },
   "outputs": [],
   "source": []
  },
  {
   "cell_type": "code",
   "execution_count": 1,
   "id": "c268b423",
   "metadata": {
    "_cell_guid": "b1076dfc-b9ad-4769-8c92-a6c4dae69d19",
    "_uuid": "8f2839f25d086af736a60e9eeb907d3b93b6e0e5",
    "execution": {
     "iopub.execute_input": "2025-07-20T12:13:09.564684Z",
     "iopub.status.busy": "2025-07-20T12:13:09.564339Z",
     "iopub.status.idle": "2025-07-20T12:13:09.576180Z",
     "shell.execute_reply": "2025-07-20T12:13:09.575016Z"
    },
    "papermill": {
     "duration": 0.021385,
     "end_time": "2025-07-20T12:13:09.577883",
     "exception": false,
     "start_time": "2025-07-20T12:13:09.556498",
     "status": "completed"
    },
    "tags": []
   },
   "outputs": [
    {
     "name": "stdout",
     "output_type": "stream",
     "text": [
      "/kaggle/input/titanic/train.csv\n",
      "/kaggle/input/titanic/test.csv\n",
      "/kaggle/input/titanic/gender_submission.csv\n"
     ]
    }
   ],
   "source": [
    "# This Python 3 environment comes with many helpful analytics libraries installed\n",
    "# It is defined by the kaggle/python Docker image: https://github.com/kaggle/docker-python\n",
    "\n",
    "\n",
    "# Input data files are available in the read-only \"../input/\" directory\n",
    "# For example, running this (by clicking run or pressing Shift+Enter) will list all files under the input directory\n",
    "\n",
    "import os\n",
    "for dirname, _, filenames in os.walk('/kaggle/input'):\n",
    "    for filename in filenames:\n",
    "        print(os.path.join(dirname, filename))\n",
    "\n",
    "# You can write up to 20GB to the current directory (/kaggle/working/) that gets preserved as output when you create a version using \"Save & Run All\" \n",
    "# You can also write temporary files to /kaggle/temp/, but they won't be saved outside of the current session"
   ]
  },
  {
   "cell_type": "code",
   "execution_count": null,
   "id": "73668f08",
   "metadata": {
    "papermill": {
     "duration": 0.00773,
     "end_time": "2025-07-20T12:13:09.593016",
     "exception": false,
     "start_time": "2025-07-20T12:13:09.585286",
     "status": "completed"
    },
    "tags": []
   },
   "outputs": [],
   "source": []
  },
  {
   "cell_type": "code",
   "execution_count": 2,
   "id": "03599752",
   "metadata": {
    "execution": {
     "iopub.execute_input": "2025-07-20T12:13:09.609534Z",
     "iopub.status.busy": "2025-07-20T12:13:09.609233Z",
     "iopub.status.idle": "2025-07-20T12:13:14.097451Z",
     "shell.execute_reply": "2025-07-20T12:13:14.096106Z"
    },
    "papermill": {
     "duration": 4.499008,
     "end_time": "2025-07-20T12:13:14.099760",
     "exception": false,
     "start_time": "2025-07-20T12:13:09.600752",
     "status": "completed"
    },
    "tags": []
   },
   "outputs": [],
   "source": [
    "# Importation des bibliothéques\n",
    "\n",
    "import pandas as pd\n",
    "import numpy as np\n",
    "import matplotlib.pyplot as plt\n",
    "import seaborn as sns\n",
    "#sns.set(style=\"whitegrid\")"
   ]
  },
  {
   "cell_type": "code",
   "execution_count": 3,
   "id": "ea0d1f08",
   "metadata": {
    "execution": {
     "iopub.execute_input": "2025-07-20T12:13:14.115819Z",
     "iopub.status.busy": "2025-07-20T12:13:14.115266Z",
     "iopub.status.idle": "2025-07-20T12:13:14.164063Z",
     "shell.execute_reply": "2025-07-20T12:13:14.162971Z"
    },
    "papermill": {
     "duration": 0.058766,
     "end_time": "2025-07-20T12:13:14.165804",
     "exception": false,
     "start_time": "2025-07-20T12:13:14.107038",
     "status": "completed"
    },
    "tags": []
   },
   "outputs": [
    {
     "data": {
      "text/html": [
       "<div>\n",
       "<style scoped>\n",
       "    .dataframe tbody tr th:only-of-type {\n",
       "        vertical-align: middle;\n",
       "    }\n",
       "\n",
       "    .dataframe tbody tr th {\n",
       "        vertical-align: top;\n",
       "    }\n",
       "\n",
       "    .dataframe thead th {\n",
       "        text-align: right;\n",
       "    }\n",
       "</style>\n",
       "<table border=\"1\" class=\"dataframe\">\n",
       "  <thead>\n",
       "    <tr style=\"text-align: right;\">\n",
       "      <th></th>\n",
       "      <th>PassengerId</th>\n",
       "      <th>Survived</th>\n",
       "      <th>Pclass</th>\n",
       "      <th>Name</th>\n",
       "      <th>Sex</th>\n",
       "      <th>Age</th>\n",
       "      <th>SibSp</th>\n",
       "      <th>Parch</th>\n",
       "      <th>Ticket</th>\n",
       "      <th>Fare</th>\n",
       "      <th>Cabin</th>\n",
       "      <th>Embarked</th>\n",
       "    </tr>\n",
       "  </thead>\n",
       "  <tbody>\n",
       "    <tr>\n",
       "      <th>0</th>\n",
       "      <td>1</td>\n",
       "      <td>0</td>\n",
       "      <td>3</td>\n",
       "      <td>Braund, Mr. Owen Harris</td>\n",
       "      <td>male</td>\n",
       "      <td>22.0</td>\n",
       "      <td>1</td>\n",
       "      <td>0</td>\n",
       "      <td>A/5 21171</td>\n",
       "      <td>7.2500</td>\n",
       "      <td>NaN</td>\n",
       "      <td>S</td>\n",
       "    </tr>\n",
       "    <tr>\n",
       "      <th>1</th>\n",
       "      <td>2</td>\n",
       "      <td>1</td>\n",
       "      <td>1</td>\n",
       "      <td>Cumings, Mrs. John Bradley (Florence Briggs Th...</td>\n",
       "      <td>female</td>\n",
       "      <td>38.0</td>\n",
       "      <td>1</td>\n",
       "      <td>0</td>\n",
       "      <td>PC 17599</td>\n",
       "      <td>71.2833</td>\n",
       "      <td>C85</td>\n",
       "      <td>C</td>\n",
       "    </tr>\n",
       "    <tr>\n",
       "      <th>2</th>\n",
       "      <td>3</td>\n",
       "      <td>1</td>\n",
       "      <td>3</td>\n",
       "      <td>Heikkinen, Miss. Laina</td>\n",
       "      <td>female</td>\n",
       "      <td>26.0</td>\n",
       "      <td>0</td>\n",
       "      <td>0</td>\n",
       "      <td>STON/O2. 3101282</td>\n",
       "      <td>7.9250</td>\n",
       "      <td>NaN</td>\n",
       "      <td>S</td>\n",
       "    </tr>\n",
       "    <tr>\n",
       "      <th>3</th>\n",
       "      <td>4</td>\n",
       "      <td>1</td>\n",
       "      <td>1</td>\n",
       "      <td>Futrelle, Mrs. Jacques Heath (Lily May Peel)</td>\n",
       "      <td>female</td>\n",
       "      <td>35.0</td>\n",
       "      <td>1</td>\n",
       "      <td>0</td>\n",
       "      <td>113803</td>\n",
       "      <td>53.1000</td>\n",
       "      <td>C123</td>\n",
       "      <td>S</td>\n",
       "    </tr>\n",
       "    <tr>\n",
       "      <th>4</th>\n",
       "      <td>5</td>\n",
       "      <td>0</td>\n",
       "      <td>3</td>\n",
       "      <td>Allen, Mr. William Henry</td>\n",
       "      <td>male</td>\n",
       "      <td>35.0</td>\n",
       "      <td>0</td>\n",
       "      <td>0</td>\n",
       "      <td>373450</td>\n",
       "      <td>8.0500</td>\n",
       "      <td>NaN</td>\n",
       "      <td>S</td>\n",
       "    </tr>\n",
       "  </tbody>\n",
       "</table>\n",
       "</div>"
      ],
      "text/plain": [
       "   PassengerId  Survived  Pclass  \\\n",
       "0            1         0       3   \n",
       "1            2         1       1   \n",
       "2            3         1       3   \n",
       "3            4         1       1   \n",
       "4            5         0       3   \n",
       "\n",
       "                                                Name     Sex   Age  SibSp  \\\n",
       "0                            Braund, Mr. Owen Harris    male  22.0      1   \n",
       "1  Cumings, Mrs. John Bradley (Florence Briggs Th...  female  38.0      1   \n",
       "2                             Heikkinen, Miss. Laina  female  26.0      0   \n",
       "3       Futrelle, Mrs. Jacques Heath (Lily May Peel)  female  35.0      1   \n",
       "4                           Allen, Mr. William Henry    male  35.0      0   \n",
       "\n",
       "   Parch            Ticket     Fare Cabin Embarked  \n",
       "0      0         A/5 21171   7.2500   NaN        S  \n",
       "1      0          PC 17599  71.2833   C85        C  \n",
       "2      0  STON/O2. 3101282   7.9250   NaN        S  \n",
       "3      0            113803  53.1000  C123        S  \n",
       "4      0            373450   8.0500   NaN        S  "
      ]
     },
     "execution_count": 3,
     "metadata": {},
     "output_type": "execute_result"
    }
   ],
   "source": [
    "# Chargement des données\n",
    "df = pd.read_csv(\"/kaggle/input/titanic/train.csv\")\n",
    "df.head()"
   ]
  },
  {
   "cell_type": "code",
   "execution_count": 4,
   "id": "a6e9c228",
   "metadata": {
    "execution": {
     "iopub.execute_input": "2025-07-20T12:13:14.183463Z",
     "iopub.status.busy": "2025-07-20T12:13:14.183104Z",
     "iopub.status.idle": "2025-07-20T12:13:14.211940Z",
     "shell.execute_reply": "2025-07-20T12:13:14.210520Z"
    },
    "papermill": {
     "duration": 0.039938,
     "end_time": "2025-07-20T12:13:14.213848",
     "exception": false,
     "start_time": "2025-07-20T12:13:14.173910",
     "status": "completed"
    },
    "tags": []
   },
   "outputs": [
    {
     "name": "stdout",
     "output_type": "stream",
     "text": [
      "<class 'pandas.core.frame.DataFrame'>\n",
      "RangeIndex: 891 entries, 0 to 890\n",
      "Data columns (total 12 columns):\n",
      " #   Column       Non-Null Count  Dtype  \n",
      "---  ------       --------------  -----  \n",
      " 0   PassengerId  891 non-null    int64  \n",
      " 1   Survived     891 non-null    int64  \n",
      " 2   Pclass       891 non-null    int64  \n",
      " 3   Name         891 non-null    object \n",
      " 4   Sex          891 non-null    object \n",
      " 5   Age          714 non-null    float64\n",
      " 6   SibSp        891 non-null    int64  \n",
      " 7   Parch        891 non-null    int64  \n",
      " 8   Ticket       891 non-null    object \n",
      " 9   Fare         891 non-null    float64\n",
      " 10  Cabin        204 non-null    object \n",
      " 11  Embarked     889 non-null    object \n",
      "dtypes: float64(2), int64(5), object(5)\n",
      "memory usage: 83.7+ KB\n"
     ]
    },
    {
     "data": {
      "text/plain": [
       "Index(['PassengerId', 'Survived', 'Pclass', 'Name', 'Sex', 'Age', 'SibSp',\n",
       "       'Parch', 'Ticket', 'Fare', 'Cabin', 'Embarked'],\n",
       "      dtype='object')"
      ]
     },
     "execution_count": 4,
     "metadata": {},
     "output_type": "execute_result"
    }
   ],
   "source": [
    "# Aperçu général\n",
    "df.info()\n",
    "df.shape\n",
    "df.columns"
   ]
  },
  {
   "cell_type": "code",
   "execution_count": 5,
   "id": "f72a08a0",
   "metadata": {
    "execution": {
     "iopub.execute_input": "2025-07-20T12:13:14.231369Z",
     "iopub.status.busy": "2025-07-20T12:13:14.231030Z",
     "iopub.status.idle": "2025-07-20T12:13:14.265342Z",
     "shell.execute_reply": "2025-07-20T12:13:14.264271Z"
    },
    "papermill": {
     "duration": 0.045145,
     "end_time": "2025-07-20T12:13:14.267285",
     "exception": false,
     "start_time": "2025-07-20T12:13:14.222140",
     "status": "completed"
    },
    "tags": []
   },
   "outputs": [
    {
     "data": {
      "text/html": [
       "<div>\n",
       "<style scoped>\n",
       "    .dataframe tbody tr th:only-of-type {\n",
       "        vertical-align: middle;\n",
       "    }\n",
       "\n",
       "    .dataframe tbody tr th {\n",
       "        vertical-align: top;\n",
       "    }\n",
       "\n",
       "    .dataframe thead th {\n",
       "        text-align: right;\n",
       "    }\n",
       "</style>\n",
       "<table border=\"1\" class=\"dataframe\">\n",
       "  <thead>\n",
       "    <tr style=\"text-align: right;\">\n",
       "      <th></th>\n",
       "      <th>PassengerId</th>\n",
       "      <th>Survived</th>\n",
       "      <th>Pclass</th>\n",
       "      <th>Age</th>\n",
       "      <th>SibSp</th>\n",
       "      <th>Parch</th>\n",
       "      <th>Fare</th>\n",
       "    </tr>\n",
       "  </thead>\n",
       "  <tbody>\n",
       "    <tr>\n",
       "      <th>count</th>\n",
       "      <td>891.000000</td>\n",
       "      <td>891.000000</td>\n",
       "      <td>891.000000</td>\n",
       "      <td>714.000000</td>\n",
       "      <td>891.000000</td>\n",
       "      <td>891.000000</td>\n",
       "      <td>891.000000</td>\n",
       "    </tr>\n",
       "    <tr>\n",
       "      <th>mean</th>\n",
       "      <td>446.000000</td>\n",
       "      <td>0.383838</td>\n",
       "      <td>2.308642</td>\n",
       "      <td>29.699118</td>\n",
       "      <td>0.523008</td>\n",
       "      <td>0.381594</td>\n",
       "      <td>32.204208</td>\n",
       "    </tr>\n",
       "    <tr>\n",
       "      <th>std</th>\n",
       "      <td>257.353842</td>\n",
       "      <td>0.486592</td>\n",
       "      <td>0.836071</td>\n",
       "      <td>14.526497</td>\n",
       "      <td>1.102743</td>\n",
       "      <td>0.806057</td>\n",
       "      <td>49.693429</td>\n",
       "    </tr>\n",
       "    <tr>\n",
       "      <th>min</th>\n",
       "      <td>1.000000</td>\n",
       "      <td>0.000000</td>\n",
       "      <td>1.000000</td>\n",
       "      <td>0.420000</td>\n",
       "      <td>0.000000</td>\n",
       "      <td>0.000000</td>\n",
       "      <td>0.000000</td>\n",
       "    </tr>\n",
       "    <tr>\n",
       "      <th>25%</th>\n",
       "      <td>223.500000</td>\n",
       "      <td>0.000000</td>\n",
       "      <td>2.000000</td>\n",
       "      <td>20.125000</td>\n",
       "      <td>0.000000</td>\n",
       "      <td>0.000000</td>\n",
       "      <td>7.910400</td>\n",
       "    </tr>\n",
       "    <tr>\n",
       "      <th>50%</th>\n",
       "      <td>446.000000</td>\n",
       "      <td>0.000000</td>\n",
       "      <td>3.000000</td>\n",
       "      <td>28.000000</td>\n",
       "      <td>0.000000</td>\n",
       "      <td>0.000000</td>\n",
       "      <td>14.454200</td>\n",
       "    </tr>\n",
       "    <tr>\n",
       "      <th>75%</th>\n",
       "      <td>668.500000</td>\n",
       "      <td>1.000000</td>\n",
       "      <td>3.000000</td>\n",
       "      <td>38.000000</td>\n",
       "      <td>1.000000</td>\n",
       "      <td>0.000000</td>\n",
       "      <td>31.000000</td>\n",
       "    </tr>\n",
       "    <tr>\n",
       "      <th>max</th>\n",
       "      <td>891.000000</td>\n",
       "      <td>1.000000</td>\n",
       "      <td>3.000000</td>\n",
       "      <td>80.000000</td>\n",
       "      <td>8.000000</td>\n",
       "      <td>6.000000</td>\n",
       "      <td>512.329200</td>\n",
       "    </tr>\n",
       "  </tbody>\n",
       "</table>\n",
       "</div>"
      ],
      "text/plain": [
       "       PassengerId    Survived      Pclass         Age       SibSp  \\\n",
       "count   891.000000  891.000000  891.000000  714.000000  891.000000   \n",
       "mean    446.000000    0.383838    2.308642   29.699118    0.523008   \n",
       "std     257.353842    0.486592    0.836071   14.526497    1.102743   \n",
       "min       1.000000    0.000000    1.000000    0.420000    0.000000   \n",
       "25%     223.500000    0.000000    2.000000   20.125000    0.000000   \n",
       "50%     446.000000    0.000000    3.000000   28.000000    0.000000   \n",
       "75%     668.500000    1.000000    3.000000   38.000000    1.000000   \n",
       "max     891.000000    1.000000    3.000000   80.000000    8.000000   \n",
       "\n",
       "            Parch        Fare  \n",
       "count  891.000000  891.000000  \n",
       "mean     0.381594   32.204208  \n",
       "std      0.806057   49.693429  \n",
       "min      0.000000    0.000000  \n",
       "25%      0.000000    7.910400  \n",
       "50%      0.000000   14.454200  \n",
       "75%      0.000000   31.000000  \n",
       "max      6.000000  512.329200  "
      ]
     },
     "execution_count": 5,
     "metadata": {},
     "output_type": "execute_result"
    }
   ],
   "source": [
    "# Type de variable et première statistique\n",
    "df.describe()"
   ]
  },
  {
   "cell_type": "markdown",
   "id": "5410fe9c",
   "metadata": {
    "papermill": {
     "duration": 0.007885,
     "end_time": "2025-07-20T12:13:14.283515",
     "exception": false,
     "start_time": "2025-07-20T12:13:14.275630",
     "status": "completed"
    },
    "tags": []
   },
   "source": [
    "891 PassengerId distinct tout comme le nombre de passager, très bien."
   ]
  },
  {
   "cell_type": "markdown",
   "id": "c2294c43",
   "metadata": {
    "papermill": {
     "duration": 0.008033,
     "end_time": "2025-07-20T12:13:14.299750",
     "exception": false,
     "start_time": "2025-07-20T12:13:14.291717",
     "status": "completed"
    },
    "tags": []
   },
   "source": [
    "La répartitions des survivant en fonction des variables dépendantes: PassengeriD etc sera bien entendu analysé avec plus de profondeur plus tard. "
   ]
  },
  {
   "cell_type": "markdown",
   "id": "0364946e",
   "metadata": {
    "papermill": {
     "duration": 0.008381,
     "end_time": "2025-07-20T12:13:14.317413",
     "exception": false,
     "start_time": "2025-07-20T12:13:14.309032",
     "status": "completed"
    },
    "tags": []
   },
   "source": [
    "2. Gestion des valeurs manquantes"
   ]
  },
  {
   "cell_type": "code",
   "execution_count": 6,
   "id": "6f186ce0",
   "metadata": {
    "execution": {
     "iopub.execute_input": "2025-07-20T12:13:14.335877Z",
     "iopub.status.busy": "2025-07-20T12:13:14.335453Z",
     "iopub.status.idle": "2025-07-20T12:13:14.351260Z",
     "shell.execute_reply": "2025-07-20T12:13:14.350148Z"
    },
    "papermill": {
     "duration": 0.027558,
     "end_time": "2025-07-20T12:13:14.353458",
     "exception": false,
     "start_time": "2025-07-20T12:13:14.325900",
     "status": "completed"
    },
    "tags": []
   },
   "outputs": [
    {
     "name": "stdout",
     "output_type": "stream",
     "text": [
      "PassengerId    891\n",
      "Survived         2\n",
      "Pclass           3\n",
      "Name           891\n",
      "Sex              2\n",
      "Age             88\n",
      "SibSp            7\n",
      "Parch            7\n",
      "Ticket         681\n",
      "Fare           248\n",
      "Cabin          147\n",
      "Embarked         3\n",
      "dtype: int64\n",
      "Survived [0 1]\n",
      "Pclass [3 1 2]\n",
      "Sex ['male' 'female']\n",
      "Cabin [nan 'C85' 'C123' 'E46' 'G6' 'C103' 'D56' 'A6' 'C23 C25 C27' 'B78' 'D33'\n",
      " 'B30' 'C52' 'B28' 'C83' 'F33' 'F G73' 'E31' 'A5' 'D10 D12' 'D26' 'C110'\n",
      " 'B58 B60' 'E101' 'F E69' 'D47' 'B86' 'F2' 'C2' 'E33' 'B19' 'A7' 'C49'\n",
      " 'F4' 'A32' 'B4' 'B80' 'A31' 'D36' 'D15' 'C93' 'C78' 'D35' 'C87' 'B77'\n",
      " 'E67' 'B94' 'C125' 'C99' 'C118' 'D7' 'A19' 'B49' 'D' 'C22 C26' 'C106'\n",
      " 'C65' 'E36' 'C54' 'B57 B59 B63 B66' 'C7' 'E34' 'C32' 'B18' 'C124' 'C91'\n",
      " 'E40' 'T' 'C128' 'D37' 'B35' 'E50' 'C82' 'B96 B98' 'E10' 'E44' 'A34'\n",
      " 'C104' 'C111' 'C92' 'E38' 'D21' 'E12' 'E63' 'A14' 'B37' 'C30' 'D20' 'B79'\n",
      " 'E25' 'D46' 'B73' 'C95' 'B38' 'B39' 'B22' 'C86' 'C70' 'A16' 'C101' 'C68'\n",
      " 'A10' 'E68' 'B41' 'A20' 'D19' 'D50' 'D9' 'A23' 'B50' 'A26' 'D48' 'E58'\n",
      " 'C126' 'B71' 'B51 B53 B55' 'D49' 'B5' 'B20' 'F G63' 'C62 C64' 'E24' 'C90'\n",
      " 'C45' 'E8' 'B101' 'D45' 'C46' 'D30' 'E121' 'D11' 'E77' 'F38' 'B3' 'D6'\n",
      " 'B82 B84' 'D17' 'A36' 'B102' 'B69' 'E49' 'C47' 'D28' 'E17' 'A24' 'C50'\n",
      " 'B42' 'C148']\n",
      "Embarked ['S' 'C' 'Q' nan]\n"
     ]
    }
   ],
   "source": [
    "# Valeurs uniques par colonne\n",
    "vaunique= df.nunique()\n",
    "print(vaunique)\n",
    "print(\"Survived\",df['Survived'].unique())\n",
    "print(\"Pclass\",df['Pclass'].unique())\n",
    "print(\"Sex\",df['Sex'].unique())\n",
    "print(\"Cabin\",df['Cabin'].unique())\n",
    "print(\"Embarked\",df['Embarked'].unique())"
   ]
  },
  {
   "cell_type": "code",
   "execution_count": 7,
   "id": "6aed157e",
   "metadata": {
    "execution": {
     "iopub.execute_input": "2025-07-20T12:13:14.370890Z",
     "iopub.status.busy": "2025-07-20T12:13:14.370455Z",
     "iopub.status.idle": "2025-07-20T12:13:14.379224Z",
     "shell.execute_reply": "2025-07-20T12:13:14.378288Z"
    },
    "papermill": {
     "duration": 0.019294,
     "end_time": "2025-07-20T12:13:14.380841",
     "exception": false,
     "start_time": "2025-07-20T12:13:14.361547",
     "status": "completed"
    },
    "tags": []
   },
   "outputs": [
    {
     "data": {
      "text/plain": [
       "PassengerId      0\n",
       "Survived         0\n",
       "Pclass           0\n",
       "Name             0\n",
       "Sex              0\n",
       "Age            177\n",
       "SibSp            0\n",
       "Parch            0\n",
       "Ticket           0\n",
       "Fare             0\n",
       "Cabin          687\n",
       "Embarked         2\n",
       "dtype: int64"
      ]
     },
     "execution_count": 7,
     "metadata": {},
     "output_type": "execute_result"
    }
   ],
   "source": [
    "df.isna().sum()"
   ]
  },
  {
   "cell_type": "code",
   "execution_count": 8,
   "id": "f6405869",
   "metadata": {
    "execution": {
     "iopub.execute_input": "2025-07-20T12:13:14.399164Z",
     "iopub.status.busy": "2025-07-20T12:13:14.398838Z",
     "iopub.status.idle": "2025-07-20T12:13:14.407822Z",
     "shell.execute_reply": "2025-07-20T12:13:14.406789Z"
    },
    "papermill": {
     "duration": 0.020269,
     "end_time": "2025-07-20T12:13:14.409473",
     "exception": false,
     "start_time": "2025-07-20T12:13:14.389204",
     "status": "completed"
    },
    "tags": []
   },
   "outputs": [],
   "source": [
    "# Suppression de colonnes à forte proportion de valeurs manquantes\n",
    "df.drop(columns=['Cabin'], inplace = True)"
   ]
  },
  {
   "cell_type": "code",
   "execution_count": 9,
   "id": "42ccc6c7",
   "metadata": {
    "execution": {
     "iopub.execute_input": "2025-07-20T12:13:14.428585Z",
     "iopub.status.busy": "2025-07-20T12:13:14.428238Z",
     "iopub.status.idle": "2025-07-20T12:13:14.441075Z",
     "shell.execute_reply": "2025-07-20T12:13:14.440005Z"
    },
    "papermill": {
     "duration": 0.024881,
     "end_time": "2025-07-20T12:13:14.443142",
     "exception": false,
     "start_time": "2025-07-20T12:13:14.418261",
     "status": "completed"
    },
    "tags": []
   },
   "outputs": [
    {
     "data": {
      "text/plain": [
       "PassengerId    0\n",
       "Survived       0\n",
       "Pclass         0\n",
       "Name           0\n",
       "Sex            0\n",
       "Age            0\n",
       "SibSp          0\n",
       "Parch          0\n",
       "Ticket         0\n",
       "Fare           0\n",
       "Embarked       0\n",
       "dtype: int64"
      ]
     },
     "execution_count": 9,
     "metadata": {},
     "output_type": "execute_result"
    }
   ],
   "source": [
    "# Imputation pour 'Age' par la médiane\n",
    "df['Age'] = df[\"Age\"].fillna(df[\"Age\"].median())\n",
    "# Imputation pour \"Embarked\" par la valeur la plus fréquente \n",
    "df['Embarked'] = df['Embarked'].fillna(df['Embarked'].mode()[0]) # Calcul la valeur ma plus fréquente dans la colonne (le mode).\n",
    "\n",
    "# Vérification finale des valeurs manquantes\n",
    "df.isna().sum()"
   ]
  },
  {
   "cell_type": "code",
   "execution_count": null,
   "id": "30cbbdd9",
   "metadata": {
    "papermill": {
     "duration": 0.00861,
     "end_time": "2025-07-20T12:13:14.531121",
     "exception": false,
     "start_time": "2025-07-20T12:13:14.522511",
     "status": "completed"
    },
    "tags": []
   },
   "outputs": [],
   "source": []
  },
  {
   "cell_type": "markdown",
   "id": "e49e8c28",
   "metadata": {
    "papermill": {
     "duration": 0.007575,
     "end_time": "2025-07-20T12:13:14.547048",
     "exception": false,
     "start_time": "2025-07-20T12:13:14.539473",
     "status": "completed"
    },
    "tags": []
   },
   "source": [
    "3. Analyse descriptive et test statistique"
   ]
  },
  {
   "cell_type": "code",
   "execution_count": 10,
   "id": "c1763687",
   "metadata": {
    "execution": {
     "iopub.execute_input": "2025-07-20T12:13:14.564472Z",
     "iopub.status.busy": "2025-07-20T12:13:14.564095Z",
     "iopub.status.idle": "2025-07-20T12:13:14.889301Z",
     "shell.execute_reply": "2025-07-20T12:13:14.888375Z"
    },
    "papermill": {
     "duration": 0.335931,
     "end_time": "2025-07-20T12:13:14.890968",
     "exception": false,
     "start_time": "2025-07-20T12:13:14.555037",
     "status": "completed"
    },
    "tags": []
   },
   "outputs": [
    {
     "data": {
      "text/plain": [
       "[]"
      ]
     },
     "execution_count": 10,
     "metadata": {},
     "output_type": "execute_result"
    },
    {
     "data": {
      "image/png": "[encoded data removed]",
      "text/plain": [
       "<Figure size 640x480 with 1 Axes>"
      ]
     },
     "metadata": {},
     "output_type": "display_data"
    }
   ],
   "source": [
    "# Visualisation des classes cibles\n",
    "sns.countplot(x=\"Survived\", data = df);\n",
    "plt.title(\"Répartition des survivants\")\n",
    "plt.plot()\n"
   ]
  },
  {
   "cell_type": "code",
   "execution_count": 11,
   "id": "8860bf02",
   "metadata": {
    "execution": {
     "iopub.execute_input": "2025-07-20T12:13:14.909611Z",
     "iopub.status.busy": "2025-07-20T12:13:14.909254Z",
     "iopub.status.idle": "2025-07-20T12:13:15.023775Z",
     "shell.execute_reply": "2025-07-20T12:13:15.022760Z"
    },
    "papermill": {
     "duration": 0.126488,
     "end_time": "2025-07-20T12:13:15.026129",
     "exception": false,
     "start_time": "2025-07-20T12:13:14.899641",
     "status": "completed"
    },
    "tags": []
   },
   "outputs": [
    {
     "name": "stdout",
     "output_type": "stream",
     "text": [
      "Survived         2\n",
      "Sex              2\n",
      "Pclass           3\n",
      "Embarked         3\n",
      "SibSp            7\n",
      "Parch            7\n",
      "Age             88\n",
      "Fare           248\n",
      "Ticket         681\n",
      "PassengerId    891\n",
      "Name           891\n",
      "dtype: int64\n",
      "Survived [0 1]\n",
      "Pclass [3 1 2]\n",
      "Sex ['male' 'female']\n",
      "Embarked ['S' 'C' 'Q']\n",
      "Age [22.   38.   26.   35.   28.   54.    2.   27.   14.    4.   58.   20.\n",
      " 39.   55.   31.   34.   15.    8.   19.   40.   66.   42.   21.   18.\n",
      "  3.    7.   49.   29.   65.   28.5   5.   11.   45.   17.   32.   16.\n",
      " 25.    0.83 30.   33.   23.   24.   46.   59.   71.   37.   47.   14.5\n",
      " 70.5  32.5  12.    9.   36.5  51.   55.5  40.5  44.    1.   61.   56.\n",
      " 50.   36.   45.5  20.5  62.   41.   52.   63.   23.5   0.92 43.   60.\n",
      " 10.   64.   13.   48.    0.75 53.   57.   80.   70.   24.5   6.    0.67\n",
      " 30.5   0.42 34.5  74.  ]\n",
      "Fare [  7.25    71.2833   7.925   53.1      8.05     8.4583  51.8625  21.075\n",
      "  11.1333  30.0708  16.7     26.55    31.275    7.8542  16.      29.125\n",
      "  13.      18.       7.225   26.       8.0292  35.5     31.3875 263.\n",
      "   7.8792   7.8958  27.7208 146.5208   7.75    10.5     82.1708  52.\n",
      "   7.2292  11.2417   9.475   21.      41.5792  15.5     21.6792  17.8\n",
      "  39.6875   7.8     76.7292  61.9792  27.75    46.9     80.      83.475\n",
      "  27.9     15.2458   8.1583   8.6625  73.5     14.4542  56.4958   7.65\n",
      "  29.      12.475    9.       9.5      7.7875  47.1     15.85    34.375\n",
      "  61.175   20.575   34.6542  63.3583  23.      77.2875   8.6542   7.775\n",
      "  24.15     9.825   14.4583 247.5208   7.1417  22.3583   6.975    7.05\n",
      "  14.5     15.0458  26.2833   9.2167  79.2      6.75    11.5     36.75\n",
      "   7.7958  12.525   66.6      7.3125  61.3792   7.7333  69.55    16.1\n",
      "  15.75    20.525   55.      25.925   33.5     30.6958  25.4667  28.7125\n",
      "   0.      15.05    39.      22.025   50.       8.4042   6.4958  10.4625\n",
      "  18.7875  31.     113.275   27.      76.2917  90.       9.35    13.5\n",
      "   7.55    26.25    12.275    7.125   52.5542  20.2125  86.5    512.3292\n",
      "  79.65   153.4625 135.6333  19.5     29.7     77.9583  20.25    78.85\n",
      "  91.0792  12.875    8.85   151.55    30.5     23.25    12.35   110.8833\n",
      " 108.9     24.      56.9292  83.1583 262.375   14.     164.8667 134.5\n",
      "   6.2375  57.9792  28.5    133.65    15.9      9.225   35.      75.25\n",
      "  69.3     55.4417 211.5      4.0125 227.525   15.7417   7.7292  12.\n",
      " 120.      12.65    18.75     6.8583  32.5      7.875   14.4     55.9\n",
      "   8.1125  81.8583  19.2583  19.9667  89.1042  38.5      7.725   13.7917\n",
      "   9.8375   7.0458   7.5208  12.2875   9.5875  49.5042  78.2667  15.1\n",
      "   7.6292  22.525   26.2875  59.4      7.4958  34.0208  93.5    221.7792\n",
      " 106.425   49.5     71.      13.8625   7.8292  39.6     17.4     51.4792\n",
      "  26.3875  30.      40.125    8.7125  15.      33.      42.4     15.55\n",
      "  65.      32.3208   7.0542   8.4333  25.5875   9.8417   8.1375  10.1708\n",
      " 211.3375  57.      13.4167   7.7417   9.4833   7.7375   8.3625  23.45\n",
      "  25.9292   8.6833   8.5167   7.8875  37.0042   6.45     6.95     8.3\n",
      "   6.4375  39.4     14.1083  13.8583  50.4958   5.       9.8458  10.5167]\n",
      "Ticket ['A/5 21171' 'PC 17599' 'STON/O2. 3101282' '113803' '373450' '330877'\n",
      " '17463' '349909' '347742' '237736' 'PP 9549' '113783' 'A/5. 2151'\n",
      " '347082' '350406' '248706' '382652' '244373' '345763' '2649' '239865'\n",
      " '248698' '330923' '113788' '347077' '2631' '19950' '330959' '349216'\n",
      " 'PC 17601' 'PC 17569' '335677' 'C.A. 24579' 'PC 17604' '113789' '2677'\n",
      " 'A./5. 2152' '345764' '2651' '7546' '11668' '349253' 'SC/Paris 2123'\n",
      " '330958' 'S.C./A.4. 23567' '370371' '14311' '2662' '349237' '3101295'\n",
      " 'A/4. 39886' 'PC 17572' '2926' '113509' '19947' 'C.A. 31026' '2697'\n",
      " 'C.A. 34651' 'CA 2144' '2669' '113572' '36973' '347088' 'PC 17605' '2661'\n",
      " 'C.A. 29395' 'S.P. 3464' '3101281' '315151' 'C.A. 33111' 'S.O.C. 14879'\n",
      " '2680' '1601' '348123' '349208' '374746' '248738' '364516' '345767'\n",
      " '345779' '330932' '113059' 'SO/C 14885' '3101278' 'W./C. 6608'\n",
      " 'SOTON/OQ 392086' '343275' '343276' '347466' 'W.E.P. 5734' 'C.A. 2315'\n",
      " '364500' '374910' 'PC 17754' 'PC 17759' '231919' '244367' '349245'\n",
      " '349215' '35281' '7540' '3101276' '349207' '343120' '312991' '349249'\n",
      " '371110' '110465' '2665' '324669' '4136' '2627' 'STON/O 2. 3101294'\n",
      " '370369' 'PC 17558' 'A4. 54510' '27267' '370372' 'C 17369' '2668'\n",
      " '347061' '349241' 'SOTON/O.Q. 3101307' 'A/5. 3337' '228414' 'C.A. 29178'\n",
      " 'SC/PARIS 2133' '11752' '7534' 'PC 17593' '2678' '347081'\n",
      " 'STON/O2. 3101279' '365222' '231945' 'C.A. 33112' '350043' '230080'\n",
      " '244310' 'S.O.P. 1166' '113776' 'A.5. 11206' 'A/5. 851' 'Fa 265302'\n",
      " 'PC 17597' '35851' 'SOTON/OQ 392090' '315037' 'CA. 2343' '371362'\n",
      " 'C.A. 33595' '347068' '315093' '363291' '113505' 'PC 17318' '111240'\n",
      " 'STON/O 2. 3101280' '17764' '350404' '4133' 'PC 17595' '250653' 'LINE'\n",
      " 'SC/PARIS 2131' '230136' '315153' '113767' '370365' '111428' '364849'\n",
      " '349247' '234604' '28424' '350046' 'PC 17610' '368703' '4579' '370370'\n",
      " '248747' '345770' '3101264' '2628' 'A/5 3540' '347054' '2699' '367231'\n",
      " '112277' 'SOTON/O.Q. 3101311' 'F.C.C. 13528' 'A/5 21174' '250646'\n",
      " '367229' '35273' 'STON/O2. 3101283' '243847' '11813' 'W/C 14208'\n",
      " 'SOTON/OQ 392089' '220367' '21440' '349234' '19943' 'PP 4348' 'SW/PP 751'\n",
      " 'A/5 21173' '236171' '347067' '237442' 'C.A. 29566' 'W./C. 6609' '26707'\n",
      " 'C.A. 31921' '28665' 'SCO/W 1585' '367230' 'W./C. 14263'\n",
      " 'STON/O 2. 3101275' '2694' '19928' '347071' '250649' '11751' '244252'\n",
      " '362316' '113514' 'A/5. 3336' '370129' '2650' 'PC 17585' '110152'\n",
      " 'PC 17755' '230433' '384461' '110413' '112059' '382649' 'C.A. 17248'\n",
      " '347083' 'PC 17582' 'PC 17760' '113798' '250644' 'PC 17596' '370375'\n",
      " '13502' '347073' '239853' 'C.A. 2673' '336439' '347464' '345778'\n",
      " 'A/5. 10482' '113056' '349239' '345774' '349206' '237798' '370373'\n",
      " '19877' '11967' 'SC/Paris 2163' '349236' '349233' 'PC 17612' '2693'\n",
      " '113781' '19988' '9234' '367226' '226593' 'A/5 2466' '17421' 'PC 17758'\n",
      " 'P/PP 3381' 'PC 17485' '11767' 'PC 17608' '250651' '349243'\n",
      " 'F.C.C. 13529' '347470' '29011' '36928' '16966' 'A/5 21172' '349219'\n",
      " '234818' '345364' '28551' '111361' '113043' 'PC 17611' '349225' '7598'\n",
      " '113784' '248740' '244361' '229236' '248733' '31418' '386525'\n",
      " 'C.A. 37671' '315088' '7267' '113510' '2695' '2647' '345783' '237671'\n",
      " '330931' '330980' 'SC/PARIS 2167' '2691' 'SOTON/O.Q. 3101310' 'C 7076'\n",
      " '110813' '2626' '14313' 'PC 17477' '11765' '3101267' '323951' 'C 7077'\n",
      " '113503' '2648' '347069' 'PC 17757' '2653' 'STON/O 2. 3101293' '349227'\n",
      " '27849' '367655' 'SC 1748' '113760' '350034' '3101277' '350052' '350407'\n",
      " '28403' '244278' '240929' 'STON/O 2. 3101289' '341826' '4137' '315096'\n",
      " '28664' '347064' '29106' '312992' '349222' '394140' 'STON/O 2. 3101269'\n",
      " '343095' '28220' '250652' '28228' '345773' '349254' 'A/5. 13032' '315082'\n",
      " '347080' 'A/4. 34244' '2003' '250655' '364851' 'SOTON/O.Q. 392078'\n",
      " '110564' '376564' 'SC/AH 3085' 'STON/O 2. 3101274' '13507' 'C.A. 18723'\n",
      " '345769' '347076' '230434' '65306' '33638' '113794' '2666' '113786'\n",
      " '65303' '113051' '17453' 'A/5 2817' '349240' '13509' '17464'\n",
      " 'F.C.C. 13531' '371060' '19952' '364506' '111320' '234360' 'A/S 2816'\n",
      " 'SOTON/O.Q. 3101306' '113792' '36209' '323592' '315089' 'SC/AH Basle 541'\n",
      " '7553' '31027' '3460' '350060' '3101298' '239854' 'A/5 3594' '4134'\n",
      " '11771' 'A.5. 18509' '65304' 'SOTON/OQ 3101317' '113787' 'PC 17609'\n",
      " 'A/4 45380' '36947' 'C.A. 6212' '350035' '315086' '364846' '330909'\n",
      " '4135' '26360' '111427' 'C 4001' '382651' 'SOTON/OQ 3101316' 'PC 17473'\n",
      " 'PC 17603' '349209' '36967' 'C.A. 34260' '226875' '349242' '12749'\n",
      " '349252' '2624' '2700' '367232' 'W./C. 14258' 'PC 17483' '3101296'\n",
      " '29104' '2641' '2690' '315084' '113050' 'PC 17761' '364498' '13568'\n",
      " 'WE/P 5735' '2908' '693' 'SC/PARIS 2146' '244358' '330979' '2620'\n",
      " '347085' '113807' '11755' '345572' '372622' '349251' '218629'\n",
      " 'SOTON/OQ 392082' 'SOTON/O.Q. 392087' 'A/4 48871' '349205' '2686'\n",
      " '350417' 'S.W./PP 752' '11769' 'PC 17474' '14312' 'A/4. 20589' '358585'\n",
      " '243880' '2689' 'STON/O 2. 3101286' '237789' '13049' '3411' '237565'\n",
      " '13567' '14973' 'A./5. 3235' 'STON/O 2. 3101273' 'A/5 3902' '364848'\n",
      " 'SC/AH 29037' '248727' '2664' '349214' '113796' '364511' '111426'\n",
      " '349910' '349246' '113804' 'SOTON/O.Q. 3101305' '370377' '364512'\n",
      " '220845' '31028' '2659' '11753' '350029' '54636' '36963' '219533'\n",
      " '349224' '334912' '27042' '347743' '13214' '112052' '237668'\n",
      " 'STON/O 2. 3101292' '350050' '349231' '13213' 'S.O./P.P. 751' 'CA. 2314'\n",
      " '349221' '8475' '330919' '365226' '349223' '29751' '2623' '5727' '349210'\n",
      " 'STON/O 2. 3101285' '234686' '312993' 'A/5 3536' '19996' '29750'\n",
      " 'F.C. 12750' 'C.A. 24580' '244270' '239856' '349912' '342826' '4138'\n",
      " '330935' '6563' '349228' '350036' '24160' '17474' '349256' '2672'\n",
      " '113800' '248731' '363592' '35852' '348121' 'PC 17475' '36864' '350025'\n",
      " '223596' 'PC 17476' 'PC 17482' '113028' '7545' '250647' '348124' '34218'\n",
      " '36568' '347062' '350048' '12233' '250643' '113806' '315094' '36866'\n",
      " '236853' 'STON/O2. 3101271' '239855' '28425' '233639' '349201' '349218'\n",
      " '16988' '376566' 'STON/O 2. 3101288' '250648' '113773' '335097' '29103'\n",
      " '392096' '345780' '349204' '350042' '29108' '363294' 'SOTON/O2 3101272'\n",
      " '2663' '347074' '112379' '364850' '8471' '345781' '350047' 'S.O./P.P. 3'\n",
      " '2674' '29105' '347078' '383121' '36865' '2687' '113501' 'W./C. 6607'\n",
      " 'SOTON/O.Q. 3101312' '374887' '3101265' '12460' 'PC 17600' '349203'\n",
      " '28213' '17465' '349244' '2685' '2625' '347089' '347063' '112050'\n",
      " '347087' '248723' '3474' '28206' '364499' '112058' 'STON/O2. 3101290'\n",
      " 'S.C./PARIS 2079' 'C 7075' '315098' '19972' '368323' '367228' '2671'\n",
      " '347468' '2223' 'PC 17756' '315097' '392092' '11774' 'SOTON/O2 3101287'\n",
      " '2683' '315090' 'C.A. 5547' '349213' '347060' 'PC 17592' '392091'\n",
      " '113055' '2629' '350026' '28134' '17466' '233866' '236852'\n",
      " 'SC/PARIS 2149' 'PC 17590' '345777' '349248' '695' '345765' '2667'\n",
      " '349212' '349217' '349257' '7552' 'C.A./SOTON 34068' 'SOTON/OQ 392076'\n",
      " '211536' '112053' '111369' '370376']\n"
     ]
    }
   ],
   "source": [
    "# Valeurs uniques par colonne\n",
    "vaunique= df.nunique().sort_values()\n",
    "print(vaunique)\n",
    "\n",
    "# Quantitative discret\n",
    "print(\"Survived\",df['Survived'].unique())\n",
    "print(\"Pclass\",df['Pclass'].unique())\n",
    "print(\"Sex\",df['Sex'].unique())\n",
    "print(\"Embarked\",df['Embarked'].unique())\n",
    "\n",
    "# Quantitative continue\n",
    "print(\"Age\",df['Age'].unique())\n",
    "print(\"Fare\",df['Fare'].unique())\n",
    "\n",
    "# \n",
    "print(\"Ticket\",df['Ticket'].unique())"
   ]
  },
  {
   "cell_type": "markdown",
   "id": "25d497fc",
   "metadata": {
    "papermill": {
     "duration": 0.008687,
     "end_time": "2025-07-20T12:13:15.043729",
     "exception": false,
     "start_time": "2025-07-20T12:13:15.035042",
     "status": "completed"
    },
    "tags": []
   },
   "source": [
    "En déterminant le nombre de valeur unique par colonne, je détecte les variables d'entrées QUANTITATIVE CONTINUE.\n"
   ]
  },
  {
   "cell_type": "code",
   "execution_count": 12,
   "id": "3b93a873",
   "metadata": {
    "execution": {
     "iopub.execute_input": "2025-07-20T12:13:15.063098Z",
     "iopub.status.busy": "2025-07-20T12:13:15.062760Z",
     "iopub.status.idle": "2025-07-20T12:13:15.648808Z",
     "shell.execute_reply": "2025-07-20T12:13:15.647747Z"
    },
    "papermill": {
     "duration": 0.598144,
     "end_time": "2025-07-20T12:13:15.650601",
     "exception": false,
     "start_time": "2025-07-20T12:13:15.052457",
     "status": "completed"
    },
    "tags": []
   },
   "outputs": [
    {
     "name": "stderr",
     "output_type": "stream",
     "text": [
      "/usr/local/lib/python3.11/dist-packages/seaborn/_oldcore.py:1119: FutureWarning: use_inf_as_na option is deprecated and will be removed in a future version. Convert inf values to NaN before operating instead.\n",
      "  with pd.option_context('mode.use_inf_as_na', True):\n"
     ]
    },
    {
     "data": {
      "image/png": "[encoded data removed]",
      "text/plain": [
       "<Figure size 800x400 with 1 Axes>"
      ]
     },
     "metadata": {},
     "output_type": "display_data"
    },
    {
     "name": "stderr",
     "output_type": "stream",
     "text": [
      "/usr/local/lib/python3.11/dist-packages/seaborn/_oldcore.py:1119: FutureWarning: use_inf_as_na option is deprecated and will be removed in a future version. Convert inf values to NaN before operating instead.\n",
      "  with pd.option_context('mode.use_inf_as_na', True):\n"
     ]
    },
    {
     "data": {
      "image/png": "[encoded data removed]",
      "text/plain": [
       "<Figure size 800x400 with 1 Axes>"
      ]
     },
     "metadata": {},
     "output_type": "display_data"
    }
   ],
   "source": [
    "plt.figure(figsize=(8, 4))\n",
    "sns.histplot(df['Fare'], bins=40, kde=True)\n",
    "plt.title('Distribution de Fare')\n",
    "plt.show()\n",
    "\n",
    "plt.figure(figsize=(8, 4))\n",
    "sns.histplot(df['Age'], bins=40, kde=True)\n",
    "plt.title('Distribution de Age')\n",
    "plt.show()"
   ]
  },
  {
   "cell_type": "markdown",
   "id": "9ada3093",
   "metadata": {
    "papermill": {
     "duration": 0.010055,
     "end_time": "2025-07-20T12:13:15.671764",
     "exception": false,
     "start_time": "2025-07-20T12:13:15.661709",
     "status": "completed"
    },
    "tags": []
   },
   "source": [
    "Pour Fare\n",
    "Distribution très asymétrique du prix des billets vendus. Les billets les plus chers sont peu représentés par rapport aux billets les moins chers.\n",
    "Pour Fare, création variable qualitative ordinale avec le découpage par QUANTILE car asymétrie forte notable.\n",
    "\n",
    "Pour Age\n",
    "Distribution plutôt symétrique.\n",
    "Découpage simple suffit.\n",
    "\n",
    "Je fais le choix de découper ces variables quantitatives oridnale pour améliorer la lisibilité. Pour le calcul du modèle, pas de tranche pour ne pas fausser les résultats.\n"
   ]
  },
  {
   "cell_type": "code",
   "execution_count": 13,
   "id": "f74b2343",
   "metadata": {
    "execution": {
     "iopub.execute_input": "2025-07-20T12:13:15.693161Z",
     "iopub.status.busy": "2025-07-20T12:13:15.692799Z",
     "iopub.status.idle": "2025-07-20T12:13:15.708727Z",
     "shell.execute_reply": "2025-07-20T12:13:15.707787Z"
    },
    "papermill": {
     "duration": 0.028693,
     "end_time": "2025-07-20T12:13:15.710429",
     "exception": false,
     "start_time": "2025-07-20T12:13:15.681736",
     "status": "completed"
    },
    "tags": []
   },
   "outputs": [],
   "source": [
    "# Discrétisation d'Age (en intervalles choisi)\n",
    "df['AgeBand'] = pd.cut(df['Age'], bins=[0, 12, 18, 35, 55, 80], labels=['Child', 'Teen', 'YoungAdult', 'MiddleAge', 'Senior'])\n",
    "\n",
    "# Discrétisation de Fare (en quantiles pour répartir les effectifs)\n",
    "df['FareBand'] = pd.qcut(df['Fare'], 4, labels=['Low', 'Mid', 'High', 'VeryHigh'])\n",
    "\n"
   ]
  },
  {
   "cell_type": "code",
   "execution_count": 14,
   "id": "6d17ef89",
   "metadata": {
    "execution": {
     "iopub.execute_input": "2025-07-20T12:13:15.732114Z",
     "iopub.status.busy": "2025-07-20T12:13:15.731743Z",
     "iopub.status.idle": "2025-07-20T12:13:15.746626Z",
     "shell.execute_reply": "2025-07-20T12:13:15.745471Z"
    },
    "papermill": {
     "duration": 0.027496,
     "end_time": "2025-07-20T12:13:15.748338",
     "exception": false,
     "start_time": "2025-07-20T12:13:15.720842",
     "status": "completed"
    },
    "tags": []
   },
   "outputs": [
    {
     "data": {
      "text/html": [
       "<div>\n",
       "<style scoped>\n",
       "    .dataframe tbody tr th:only-of-type {\n",
       "        vertical-align: middle;\n",
       "    }\n",
       "\n",
       "    .dataframe tbody tr th {\n",
       "        vertical-align: top;\n",
       "    }\n",
       "\n",
       "    .dataframe thead th {\n",
       "        text-align: right;\n",
       "    }\n",
       "</style>\n",
       "<table border=\"1\" class=\"dataframe\">\n",
       "  <thead>\n",
       "    <tr style=\"text-align: right;\">\n",
       "      <th></th>\n",
       "      <th>PassengerId</th>\n",
       "      <th>Survived</th>\n",
       "      <th>Pclass</th>\n",
       "      <th>Name</th>\n",
       "      <th>Sex</th>\n",
       "      <th>Age</th>\n",
       "      <th>SibSp</th>\n",
       "      <th>Parch</th>\n",
       "      <th>Ticket</th>\n",
       "      <th>Fare</th>\n",
       "      <th>Embarked</th>\n",
       "      <th>AgeBand</th>\n",
       "      <th>FareBand</th>\n",
       "    </tr>\n",
       "  </thead>\n",
       "  <tbody>\n",
       "    <tr>\n",
       "      <th>0</th>\n",
       "      <td>1</td>\n",
       "      <td>0</td>\n",
       "      <td>3</td>\n",
       "      <td>Braund, Mr. Owen Harris</td>\n",
       "      <td>male</td>\n",
       "      <td>22.0</td>\n",
       "      <td>1</td>\n",
       "      <td>0</td>\n",
       "      <td>A/5 21171</td>\n",
       "      <td>7.2500</td>\n",
       "      <td>S</td>\n",
       "      <td>YoungAdult</td>\n",
       "      <td>Low</td>\n",
       "    </tr>\n",
       "    <tr>\n",
       "      <th>1</th>\n",
       "      <td>2</td>\n",
       "      <td>1</td>\n",
       "      <td>1</td>\n",
       "      <td>Cumings, Mrs. John Bradley (Florence Briggs Th...</td>\n",
       "      <td>female</td>\n",
       "      <td>38.0</td>\n",
       "      <td>1</td>\n",
       "      <td>0</td>\n",
       "      <td>PC 17599</td>\n",
       "      <td>71.2833</td>\n",
       "      <td>C</td>\n",
       "      <td>MiddleAge</td>\n",
       "      <td>VeryHigh</td>\n",
       "    </tr>\n",
       "    <tr>\n",
       "      <th>2</th>\n",
       "      <td>3</td>\n",
       "      <td>1</td>\n",
       "      <td>3</td>\n",
       "      <td>Heikkinen, Miss. Laina</td>\n",
       "      <td>female</td>\n",
       "      <td>26.0</td>\n",
       "      <td>0</td>\n",
       "      <td>0</td>\n",
       "      <td>STON/O2. 3101282</td>\n",
       "      <td>7.9250</td>\n",
       "      <td>S</td>\n",
       "      <td>YoungAdult</td>\n",
       "      <td>Mid</td>\n",
       "    </tr>\n",
       "    <tr>\n",
       "      <th>3</th>\n",
       "      <td>4</td>\n",
       "      <td>1</td>\n",
       "      <td>1</td>\n",
       "      <td>Futrelle, Mrs. Jacques Heath (Lily May Peel)</td>\n",
       "      <td>female</td>\n",
       "      <td>35.0</td>\n",
       "      <td>1</td>\n",
       "      <td>0</td>\n",
       "      <td>113803</td>\n",
       "      <td>53.1000</td>\n",
       "      <td>S</td>\n",
       "      <td>YoungAdult</td>\n",
       "      <td>VeryHigh</td>\n",
       "    </tr>\n",
       "    <tr>\n",
       "      <th>4</th>\n",
       "      <td>5</td>\n",
       "      <td>0</td>\n",
       "      <td>3</td>\n",
       "      <td>Allen, Mr. William Henry</td>\n",
       "      <td>male</td>\n",
       "      <td>35.0</td>\n",
       "      <td>0</td>\n",
       "      <td>0</td>\n",
       "      <td>373450</td>\n",
       "      <td>8.0500</td>\n",
       "      <td>S</td>\n",
       "      <td>YoungAdult</td>\n",
       "      <td>Mid</td>\n",
       "    </tr>\n",
       "  </tbody>\n",
       "</table>\n",
       "</div>"
      ],
      "text/plain": [
       "   PassengerId  Survived  Pclass  \\\n",
       "0            1         0       3   \n",
       "1            2         1       1   \n",
       "2            3         1       3   \n",
       "3            4         1       1   \n",
       "4            5         0       3   \n",
       "\n",
       "                                                Name     Sex   Age  SibSp  \\\n",
       "0                            Braund, Mr. Owen Harris    male  22.0      1   \n",
       "1  Cumings, Mrs. John Bradley (Florence Briggs Th...  female  38.0      1   \n",
       "2                             Heikkinen, Miss. Laina  female  26.0      0   \n",
       "3       Futrelle, Mrs. Jacques Heath (Lily May Peel)  female  35.0      1   \n",
       "4                           Allen, Mr. William Henry    male  35.0      0   \n",
       "\n",
       "   Parch            Ticket     Fare Embarked     AgeBand  FareBand  \n",
       "0      0         A/5 21171   7.2500        S  YoungAdult       Low  \n",
       "1      0          PC 17599  71.2833        C   MiddleAge  VeryHigh  \n",
       "2      0  STON/O2. 3101282   7.9250        S  YoungAdult       Mid  \n",
       "3      0            113803  53.1000        S  YoungAdult  VeryHigh  \n",
       "4      0            373450   8.0500        S  YoungAdult       Mid  "
      ]
     },
     "execution_count": 14,
     "metadata": {},
     "output_type": "execute_result"
    }
   ],
   "source": [
    "df.head()"
   ]
  },
  {
   "cell_type": "code",
   "execution_count": 15,
   "id": "cf07d6a9",
   "metadata": {
    "execution": {
     "iopub.execute_input": "2025-07-20T12:13:15.770371Z",
     "iopub.status.busy": "2025-07-20T12:13:15.770067Z",
     "iopub.status.idle": "2025-07-20T12:13:15.801421Z",
     "shell.execute_reply": "2025-07-20T12:13:15.799943Z"
    },
    "papermill": {
     "duration": 0.044356,
     "end_time": "2025-07-20T12:13:15.803122",
     "exception": false,
     "start_time": "2025-07-20T12:13:15.758766",
     "status": "completed"
    },
    "tags": []
   },
   "outputs": [
    {
     "name": "stdout",
     "output_type": "stream",
     "text": [
      "p-value FareBand: 0.004096873157739237\n"
     ]
    }
   ],
   "source": [
    "from scipy.stats import chi2_contingency\n",
    "\n",
    "table_fare = pd.crosstab(df['AgeBand'], df['Survived'])\n",
    "chi2, p, dof, expected = chi2_contingency(table_fare)\n",
    "print(\"p-value FareBand:\", p)\n"
   ]
  },
  {
   "cell_type": "code",
   "execution_count": 16,
   "id": "7ea47a83",
   "metadata": {
    "execution": {
     "iopub.execute_input": "2025-07-20T12:13:15.826069Z",
     "iopub.status.busy": "2025-07-20T12:13:15.825606Z",
     "iopub.status.idle": "2025-07-20T12:13:15.842039Z",
     "shell.execute_reply": "2025-07-20T12:13:15.840976Z"
    },
    "papermill": {
     "duration": 0.029737,
     "end_time": "2025-07-20T12:13:15.843495",
     "exception": false,
     "start_time": "2025-07-20T12:13:15.813758",
     "status": "completed"
    },
    "tags": []
   },
   "outputs": [
    {
     "name": "stdout",
     "output_type": "stream",
     "text": [
      "p-value FareBand: 2.816616687453629e-17\n"
     ]
    }
   ],
   "source": [
    "from scipy.stats import chi2_contingency\n",
    "\n",
    "table_fare = pd.crosstab(df['FareBand'], df['Survived'])\n",
    "chi2, p, dof, expected = chi2_contingency(table_fare)\n",
    "print(\"p-value FareBand:\", p)\n"
   ]
  },
  {
   "cell_type": "code",
   "execution_count": 17,
   "id": "b6216a67",
   "metadata": {
    "execution": {
     "iopub.execute_input": "2025-07-20T12:13:15.865684Z",
     "iopub.status.busy": "2025-07-20T12:13:15.865325Z",
     "iopub.status.idle": "2025-07-20T12:13:16.379288Z",
     "shell.execute_reply": "2025-07-20T12:13:16.378135Z"
    },
    "papermill": {
     "duration": 0.526951,
     "end_time": "2025-07-20T12:13:16.380821",
     "exception": false,
     "start_time": "2025-07-20T12:13:15.853870",
     "status": "completed"
    },
    "tags": []
   },
   "outputs": [
    {
     "name": "stdout",
     "output_type": "stream",
     "text": [
      "FareBand\n",
      "Low         0.197309\n",
      "Mid         0.303571\n",
      "High        0.454955\n",
      "VeryHigh    0.581081\n",
      "Name: Survived, dtype: float64\n",
      "AgeBand\n",
      "Child         0.579710\n",
      "Teen          0.428571\n",
      "YoungAdult    0.353271\n",
      "MiddleAge     0.401130\n",
      "Senior        0.300000\n",
      "Name: Survived, dtype: float64\n"
     ]
    },
    {
     "name": "stderr",
     "output_type": "stream",
     "text": [
      "/tmp/ipykernel_13/2134777564.py:2: FutureWarning: The default of observed=False is deprecated and will be changed to True in a future version of pandas. Pass observed=False to retain current behavior or observed=True to adopt the future default and silence this warning.\n",
      "  fare_survival = df.groupby('FareBand')['Survived'].mean()\n",
      "/tmp/ipykernel_13/2134777564.py:6: FutureWarning: The default of observed=False is deprecated and will be changed to True in a future version of pandas. Pass observed=False to retain current behavior or observed=True to adopt the future default and silence this warning.\n",
      "  age_survival = df.groupby('AgeBand')['Survived'].mean()\n",
      "/usr/local/lib/python3.11/dist-packages/seaborn/categorical.py:641: FutureWarning: The default of observed=False is deprecated and will be changed to True in a future version of pandas. Pass observed=False to retain current behavior or observed=True to adopt the future default and silence this warning.\n",
      "  grouped_vals = vals.groupby(grouper)\n"
     ]
    },
    {
     "data": {
      "image/png": "[encoded data removed]",
      "text/plain": [
       "<Figure size 640x480 with 1 Axes>"
      ]
     },
     "metadata": {},
     "output_type": "display_data"
    },
    {
     "name": "stderr",
     "output_type": "stream",
     "text": [
      "/usr/local/lib/python3.11/dist-packages/seaborn/categorical.py:641: FutureWarning: The default of observed=False is deprecated and will be changed to True in a future version of pandas. Pass observed=False to retain current behavior or observed=True to adopt the future default and silence this warning.\n",
      "  grouped_vals = vals.groupby(grouper)\n"
     ]
    },
    {
     "data": {
      "image/png": "[encoded data removed]",
      "text/plain": [
       "<Figure size 640x480 with 1 Axes>"
      ]
     },
     "metadata": {},
     "output_type": "display_data"
    }
   ],
   "source": [
    "# Fare\n",
    "fare_survival = df.groupby('FareBand')['Survived'].mean()\n",
    "print(fare_survival)\n",
    "\n",
    "# Age\n",
    "age_survival = df.groupby('AgeBand')['Survived'].mean()\n",
    "print(age_survival)\n",
    "\n",
    "\n",
    "sns.barplot(x='FareBand', y='Survived', data=df)\n",
    "plt.title('Taux de survie par FareBand')\n",
    "plt.show()\n",
    "\n",
    "sns.barplot(x='AgeBand', y='Survived', data=df)\n",
    "plt.title('Taux de survie par AgeBand')\n",
    "plt.show()\n"
   ]
  },
  {
   "cell_type": "markdown",
   "id": "2d7b61fd",
   "metadata": {
    "papermill": {
     "duration": 0.011434,
     "end_time": "2025-07-20T12:13:16.404489",
     "exception": false,
     "start_time": "2025-07-20T12:13:16.393055",
     "status": "completed"
    },
    "tags": []
   },
   "source": [
    "Avec les résultats du chi2, on voit que la tranche tarifaire influe le taux de survie. \n",
    "Les riches auraient un taux de survie plus élevé. \n",
    "L'histogramme le confirme. \n",
    "La tranche d'âge seule n'est pas particulièrement pertinente pour influencer le taux de survie. \n",
    "Cependant dans la domaine de la prédiction avec le machine learning la combinaison de variables ayant plus ou moins de l'influence de manière individuelle permettra justemment de faire une prédiction réaliste sur les chances de survie d'un passager."
   ]
  },
  {
   "cell_type": "markdown",
   "id": "a9e722f7",
   "metadata": {
    "papermill": {
     "duration": 0.01128,
     "end_time": "2025-07-20T12:13:16.427505",
     "exception": false,
     "start_time": "2025-07-20T12:13:16.416225",
     "status": "completed"
    },
    "tags": []
   },
   "source": []
  },
  {
   "cell_type": "code",
   "execution_count": null,
   "id": "c490339f",
   "metadata": {
    "papermill": {
     "duration": 0.011143,
     "end_time": "2025-07-20T12:13:16.450273",
     "exception": false,
     "start_time": "2025-07-20T12:13:16.439130",
     "status": "completed"
    },
    "tags": []
   },
   "outputs": [],
   "source": []
  },
  {
   "cell_type": "code",
   "execution_count": null,
   "id": "2c621650",
   "metadata": {
    "papermill": {
     "duration": 0.01122,
     "end_time": "2025-07-20T12:13:16.472907",
     "exception": false,
     "start_time": "2025-07-20T12:13:16.461687",
     "status": "completed"
    },
    "tags": []
   },
   "outputs": [],
   "source": []
  },
  {
   "cell_type": "code",
   "execution_count": null,
   "id": "dbe3e19a",
   "metadata": {
    "papermill": {
     "duration": 0.011091,
     "end_time": "2025-07-20T12:13:16.495282",
     "exception": false,
     "start_time": "2025-07-20T12:13:16.484191",
     "status": "completed"
    },
    "tags": []
   },
   "outputs": [],
   "source": []
  },
  {
   "cell_type": "code",
   "execution_count": null,
   "id": "edb3efc4",
   "metadata": {
    "papermill": {
     "duration": 0.011281,
     "end_time": "2025-07-20T12:13:16.518022",
     "exception": false,
     "start_time": "2025-07-20T12:13:16.506741",
     "status": "completed"
    },
    "tags": []
   },
   "outputs": [],
   "source": []
  },
  {
   "cell_type": "code",
   "execution_count": 18,
   "id": "1715fb2d",
   "metadata": {
    "execution": {
     "iopub.execute_input": "2025-07-20T12:13:16.543748Z",
     "iopub.status.busy": "2025-07-20T12:13:16.543400Z",
     "iopub.status.idle": "2025-07-20T12:13:17.197144Z",
     "shell.execute_reply": "2025-07-20T12:13:17.196165Z"
    },
    "papermill": {
     "duration": 0.668327,
     "end_time": "2025-07-20T12:13:17.199134",
     "exception": false,
     "start_time": "2025-07-20T12:13:16.530807",
     "status": "completed"
    },
    "tags": []
   },
   "outputs": [
    {
     "data": {
      "image/png": "[encoded data removed]",
      "text/plain": [
       "<Figure size 640x480 with 1 Axes>"
      ]
     },
     "metadata": {},
     "output_type": "display_data"
    },
    {
     "data": {
      "image/png": "[encoded data removed]",
      "text/plain": [
       "<Figure size 640x480 with 1 Axes>"
      ]
     },
     "metadata": {},
     "output_type": "display_data"
    },
    {
     "data": {
      "image/png": "[encoded data removed]",
      "text/plain": [
       "<Figure size 640x480 with 1 Axes>"
      ]
     },
     "metadata": {},
     "output_type": "display_data"
    }
   ],
   "source": [
    "# Comparaison des taux de survie par sexe\n",
    "sns.barplot(x='Sex',y='Survived', data=df)\n",
    "plt.title('Taux de survie par sexe')\n",
    "plt.show()\n",
    "\n",
    "# Comparaison des taux de survie par classe\n",
    "sns.barplot(x='Pclass',y='Survived', data=df)\n",
    "plt.title('Taux de survie par classe')\n",
    "plt.show()\n",
    "\n",
    "# Comparaison des taux de survie en fonction de Embarked\n",
    "sns.barplot(x='Embarked',y='Survived', data=df)\n",
    "plt.title('Taux de survie par classe')\n",
    "plt.show()"
   ]
  },
  {
   "cell_type": "markdown",
   "id": "43ed68e0",
   "metadata": {
    "papermill": {
     "duration": 0.014408,
     "end_time": "2025-07-20T12:13:17.227103",
     "exception": false,
     "start_time": "2025-07-20T12:13:17.212695",
     "status": "completed"
    },
    "tags": []
   },
   "source": [
    "Taux de survie avec régression logistique en fonction de :\n",
    "\n",
    "> Sex\n",
    "\n",
    "> Pclass\n",
    "\n",
    "> Embarked\n",
    "\n",
    "> FareBand avec catégorisation du prix des billets... Colonne quantitative continue!\n",
    "\n",
    "> AgeBand: colonne quantitative continue!\n",
    "\n",
    "\n",
    "Stratégie:\n",
    "\n",
    "0. Statistique descriptive avec barplot pour repérer les associations possible, le X ayant un effet significatif sur Y.\n",
    "1. Estimer effet de plusieurs variables ensemble avec régression logistique\n",
    "   Encodage nécessaire car par exemple: \n",
    "   Pour la varaible \"Age\", la catégorie \"Child\" est absente, c'est la catégorie de référence. Elle est implicite pour éviter la multicolinéarité parfaite: \n",
    "si on connait 2 colonnes, on peut deviner la 3e. \n",
    "3. Visualiser les interraction entre plusieurs variables avec Group By + HeatMap / Barplot\n",
    "4. Test effet d'une variable quantitative en particulier ANOVA si descretisée ou test de Mann-Whitney.\n"
   ]
  },
  {
   "cell_type": "markdown",
   "id": "4f44f810",
   "metadata": {
    "papermill": {
     "duration": 0.013408,
     "end_time": "2025-07-20T12:13:17.256238",
     "exception": false,
     "start_time": "2025-07-20T12:13:17.242830",
     "status": "completed"
    },
    "tags": []
   },
   "source": []
  },
  {
   "cell_type": "markdown",
   "id": "3e87d516",
   "metadata": {
    "papermill": {
     "duration": 0.015439,
     "end_time": "2025-07-20T12:13:17.285940",
     "exception": false,
     "start_time": "2025-07-20T12:13:17.270501",
     "status": "completed"
    },
    "tags": []
   },
   "source": []
  },
  {
   "cell_type": "markdown",
   "id": "36f20765",
   "metadata": {
    "papermill": {
     "duration": 0.015318,
     "end_time": "2025-07-20T12:13:17.317260",
     "exception": false,
     "start_time": "2025-07-20T12:13:17.301942",
     "status": "completed"
    },
    "tags": []
   },
   "source": []
  },
  {
   "cell_type": "code",
   "execution_count": 19,
   "id": "3cf13fd6",
   "metadata": {
    "execution": {
     "iopub.execute_input": "2025-07-20T12:13:17.346153Z",
     "iopub.status.busy": "2025-07-20T12:13:17.345811Z",
     "iopub.status.idle": "2025-07-20T12:13:19.761917Z",
     "shell.execute_reply": "2025-07-20T12:13:19.760436Z"
    },
    "papermill": {
     "duration": 2.4328,
     "end_time": "2025-07-20T12:13:19.763687",
     "exception": false,
     "start_time": "2025-07-20T12:13:17.330887",
     "status": "completed"
    },
    "tags": []
   },
   "outputs": [
    {
     "name": "stdout",
     "output_type": "stream",
     "text": [
      "Optimization terminated successfully.\n",
      "         Current function value: 0.443738\n",
      "         Iterations 6\n",
      "                           Logit Regression Results                           \n",
      "==============================================================================\n",
      "Dep. Variable:               Survived   No. Observations:                  891\n",
      "Model:                          Logit   Df Residuals:                      879\n",
      "Method:                           MLE   Df Model:                           11\n",
      "Date:                Sun, 20 Jul 2025   Pseudo R-squ.:                  0.3336\n",
      "Time:                        12:13:19   Log-Likelihood:                -395.37\n",
      "converged:                       True   LL-Null:                       -593.33\n",
      "Covariance Type:            nonrobust   LLR p-value:                 4.509e-78\n",
      "======================================================================================\n",
      "                         coef    std err          z      P>|z|      [0.025      0.975]\n",
      "--------------------------------------------------------------------------------------\n",
      "const                  5.7676      0.736      7.834      0.000       4.325       7.211\n",
      "Pclass                -1.2514      0.154     -8.107      0.000      -1.554      -0.949\n",
      "FareBand_Mid           0.1619      0.290      0.558      0.577      -0.407       0.731\n",
      "FareBand_High         -0.0160      0.299     -0.054      0.957      -0.602       0.570\n",
      "FareBand_VeryHigh     -0.3066      0.356     -0.862      0.388      -1.003       0.390\n",
      "AgeBand_Teen          -1.4240      0.468     -3.041      0.002      -2.342      -0.506\n",
      "AgeBand_YoungAdult    -1.3235      0.349     -3.796      0.000      -2.007      -0.640\n",
      "AgeBand_MiddleAge     -1.7732      0.391     -4.538      0.000      -2.539      -1.007\n",
      "AgeBand_Senior        -2.4837      0.553     -4.492      0.000      -3.567      -1.400\n",
      "Sex_male              -2.6438      0.196    -13.458      0.000      -3.029      -2.259\n",
      "Embarked_Q            -0.0511      0.380     -0.134      0.893      -0.796       0.694\n",
      "Embarked_S            -0.5869      0.234     -2.511      0.012      -1.045      -0.129\n",
      "======================================================================================\n"
     ]
    }
   ],
   "source": [
    "import statsmodels.api as sm\n",
    "# Encodage des variables catégorielles \n",
    "df_encoded = pd.get_dummies(df[['FareBand','AgeBand','Sex', 'Pclass', 'Embarked']], drop_first=True)\n",
    "df_encoded = df_encoded.astype(int)  # Convertit tout en entiers\n",
    "\n",
    "# Définir X (features) et y (cible)\n",
    "X = df_encoded\n",
    "y = df['Survived']\n",
    "\n",
    "# Ajouter constante (intercept)\n",
    "X = sm.add_constant(X)\n",
    "\n",
    "# Régression logistique\n",
    "model = sm.Logit(y, X)\n",
    "result = model.fit()\n",
    "\n",
    "# Résumé\n",
    "print(result.summary())\n"
   ]
  },
  {
   "cell_type": "markdown",
   "id": "174bd61e",
   "metadata": {
    "papermill": {
     "duration": 0.01774,
     "end_time": "2025-07-20T12:13:19.796816",
     "exception": false,
     "start_time": "2025-07-20T12:13:19.779076",
     "status": "completed"
    },
    "tags": []
   },
   "source": [
    "Comment lire les résultats d'une régression logistique.\n",
    "\n",
    "Méthode général:\n",
    "1. Constater la convergence du modèle.\n",
    "2. Vérifier la significativité globale du modèle avec LLR p-value\n",
    "3. Lire les coeffs:\n",
    "   3.1 Notion x varie d'une unité influence sur y + log-odds (logarithme du rapport de probabilité de survie)\n",
    "   3.2 Signe du coeff. pour indiquer le sens de l'effet\n"
   ]
  },
  {
   "cell_type": "code",
   "execution_count": 20,
   "id": "86264592",
   "metadata": {
    "execution": {
     "iopub.execute_input": "2025-07-20T12:13:19.828277Z",
     "iopub.status.busy": "2025-07-20T12:13:19.827800Z",
     "iopub.status.idle": "2025-07-20T12:13:19.834128Z",
     "shell.execute_reply": "2025-07-20T12:13:19.833054Z"
    },
    "papermill": {
     "duration": 0.025131,
     "end_time": "2025-07-20T12:13:19.835887",
     "exception": false,
     "start_time": "2025-07-20T12:13:19.810756",
     "status": "completed"
    },
    "tags": []
   },
   "outputs": [
    {
     "name": "stdout",
     "output_type": "stream",
     "text": [
      "Les hommes ont 93 % moins de chances de survivre que les femmes. Leur chance sont divisés par environ 14 .\n"
     ]
    }
   ],
   "source": [
    "# Lecture log-odds\n",
    "Sex_male  = -2.6438 \n",
    "prop = np.exp(Sex_male)\n",
    "print(\"Les hommes ont\", round((1-prop)*100),\"% moins de chances de survivre que les femmes. Leur chance sont divisés par environ\", round(1/prop),\".\")\n"
   ]
  },
  {
   "cell_type": "markdown",
   "id": "665af587",
   "metadata": {
    "papermill": {
     "duration": 0.013747,
     "end_time": "2025-07-20T12:13:19.863790",
     "exception": false,
     "start_time": "2025-07-20T12:13:19.850043",
     "status": "completed"
    },
    "tags": []
   },
   "source": []
  },
  {
   "cell_type": "markdown",
   "id": "e30ab1e8",
   "metadata": {
    "papermill": {
     "duration": 0.014075,
     "end_time": "2025-07-20T12:13:19.892150",
     "exception": false,
     "start_time": "2025-07-20T12:13:19.878075",
     "status": "completed"
    },
    "tags": []
   },
   "source": [
    "4. Vérifier la significativité INDIVIDUELLE des variables\n",
    "5. Utiliser les IC: si l'intervalle contient 0, l'intervelle n'est pas significative.\n",
    "   Remarque: Si IC = 0, même avec p<0,05, L'effet n'est pas clairement établi.\n"
   ]
  },
  {
   "cell_type": "code",
   "execution_count": 21,
   "id": "8d137681",
   "metadata": {
    "execution": {
     "iopub.execute_input": "2025-07-20T12:13:19.922177Z",
     "iopub.status.busy": "2025-07-20T12:13:19.921757Z",
     "iopub.status.idle": "2025-07-20T12:13:20.190020Z",
     "shell.execute_reply": "2025-07-20T12:13:20.189081Z"
    },
    "papermill": {
     "duration": 0.285326,
     "end_time": "2025-07-20T12:13:20.191519",
     "exception": false,
     "start_time": "2025-07-20T12:13:19.906193",
     "status": "completed"
    },
    "tags": []
   },
   "outputs": [
    {
     "name": "stderr",
     "output_type": "stream",
     "text": [
      "/tmp/ipykernel_13/3285079232.py:2: FutureWarning: The default of observed=False is deprecated and will be changed to True in a future version of pandas. Pass observed=False to retain current behavior or observed=True to adopt the future default and silence this warning.\n",
      "  grouped = df.groupby(['FareBand', 'Pclass'])['Survived'].mean().unstack()\n",
      "/usr/local/lib/python3.11/dist-packages/matplotlib/colors.py:721: RuntimeWarning: invalid value encountered in less\n",
      "  xa[xa < 0] = -1\n"
     ]
    },
    {
     "data": {
      "image/png": "[encoded data removed]",
      "text/plain": [
       "<Figure size 800x500 with 2 Axes>"
      ]
     },
     "metadata": {},
     "output_type": "display_data"
    }
   ],
   "source": [
    "\n",
    "# Calcul du taux de survie moyen pour chaque combinaison FareBand x Pclass\n",
    "grouped = df.groupby(['FareBand', 'Pclass'])['Survived'].mean().unstack()\n",
    "\n",
    "# Affichage en heatmap\n",
    "plt.figure(figsize=(8, 5))\n",
    "sns.heatmap(grouped, annot=True, cmap='Blues', fmt=\".2f\")\n",
    "plt.title(\"Taux de survie selon FareBand et Pclass\")\n",
    "plt.ylabel(\"FareBand\")\n",
    "plt.xlabel(\"Pclass\")\n",
    "plt.show()\n"
   ]
  },
  {
   "cell_type": "markdown",
   "id": "6c8d7bab",
   "metadata": {
    "papermill": {
     "duration": 0.014364,
     "end_time": "2025-07-20T12:13:20.221380",
     "exception": false,
     "start_time": "2025-07-20T12:13:20.207016",
     "status": "completed"
    },
    "tags": []
   },
   "source": [
    "Tu es dans la phase exploratoire → tu formules des hypothèses, tu testes visuellement, tu regardes les p-values.\n",
    "\n",
    "Mais ensuite, dans la phase prédictive, ce qui compte ce n’est plus \"ce qui semble utile\" à l’œil, mais :\n",
    "\n",
    "Ce qui améliore la performance du modèle (log-loss, accuracy, f1-score…)\n",
    "\n",
    "Ce qui réduit l’erreur de prédiction sur les données jamais vues (jeu test)\n",
    "\n",
    "🧠 Ce que je propose\n",
    "Même si Pclass et FareBand te semblent donner les mêmes infos à l’œil, c’est dans la phase d'entraînement (sur train.csv) et d'évaluation sur validation/test que tu verras :\n",
    "\n",
    "Si FareBand améliore la prédiction\n",
    "\n",
    "Ou si elle est redondante ou bruitée, et qu’il vaut mieux l’enlever"
   ]
  },
  {
   "cell_type": "code",
   "execution_count": null,
   "id": "e6b65ca5",
   "metadata": {
    "papermill": {
     "duration": 0.014168,
     "end_time": "2025-07-20T12:13:20.250148",
     "exception": false,
     "start_time": "2025-07-20T12:13:20.235980",
     "status": "completed"
    },
    "tags": []
   },
   "outputs": [],
   "source": []
  },
  {
   "cell_type": "code",
   "execution_count": null,
   "id": "923d5bd3",
   "metadata": {
    "papermill": {
     "duration": 0.014506,
     "end_time": "2025-07-20T12:13:20.279446",
     "exception": false,
     "start_time": "2025-07-20T12:13:20.264940",
     "status": "completed"
    },
    "tags": []
   },
   "outputs": [],
   "source": []
  },
  {
   "cell_type": "code",
   "execution_count": null,
   "id": "9255f470",
   "metadata": {
    "papermill": {
     "duration": 0.014949,
     "end_time": "2025-07-20T12:13:20.310330",
     "exception": false,
     "start_time": "2025-07-20T12:13:20.295381",
     "status": "completed"
    },
    "tags": []
   },
   "outputs": [],
   "source": []
  },
  {
   "cell_type": "code",
   "execution_count": null,
   "id": "94a5dd4f",
   "metadata": {
    "papermill": {
     "duration": 0.014451,
     "end_time": "2025-07-20T12:13:20.340792",
     "exception": false,
     "start_time": "2025-07-20T12:13:20.326341",
     "status": "completed"
    },
    "tags": []
   },
   "outputs": [],
   "source": []
  },
  {
   "cell_type": "code",
   "execution_count": null,
   "id": "4e1144ee",
   "metadata": {
    "jupyter": {
     "source_hidden": true
    },
    "papermill": {
     "duration": 0.014595,
     "end_time": "2025-07-20T12:13:20.370007",
     "exception": false,
     "start_time": "2025-07-20T12:13:20.355412",
     "status": "completed"
    },
    "tags": []
   },
   "outputs": [],
   "source": []
  }
 ],
 "metadata": {
  "kaggle": {
   "accelerator": "none",
   "dataSources": [
    {
     "databundleVersionId": 26502,
     "isSourceIdPinned": false,
     "sourceId": 3136,
     "sourceType": "competition"
    }
   ],
   "dockerImageVersionId": 31089,
   "isGpuEnabled": false,
   "isInternetEnabled": false,
   "language": "python",
   "sourceType": "notebook"
  },
  "kernelspec": {
   "display_name": "Python 3",
   "language": "python",
   "name": "python3"
  },
  "language_info": {
   "codemirror_mode": {
    "name": "ipython",
    "version": 3
   },
   "file_extension": ".py",
   "mimetype": "text/x-python",
   "name": "python",
   "nbconvert_exporter": "python",
   "pygments_lexer": "ipython3",
   "version": "3.11.13"
  },
  "papermill": {
   "default_parameters": {},
   "duration": 17.098217,
   "end_time": "2025-07-20T12:13:21.207262",
   "environment_variables": {},
   "exception": null,
   "input_path": "__notebook__.ipynb",
   "output_path": "__notebook__.ipynb",
   "parameters": {},
   "start_time": "2025-07-20T12:13:04.109045",
   "version": "2.6.0"
  }
 },
 "nbformat": 4,
 "nbformat_minor": 5
}
